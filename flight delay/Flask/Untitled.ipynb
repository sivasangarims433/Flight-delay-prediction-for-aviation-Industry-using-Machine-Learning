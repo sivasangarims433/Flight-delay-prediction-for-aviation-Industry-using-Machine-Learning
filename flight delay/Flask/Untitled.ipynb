{
 "cells": [
  {
   "cell_type": "code",
   "execution_count": null,
   "metadata": {},
   "outputs": [],
   "source": [
    "# Import libraries \n",
    "import pandas as pd \n",
    "import pickle\n",
    "from sklearn.preprocessing import LabelEncoder\n",
    "from sklearn.ensemble import RandomForestClassifier\n",
    "from sklearn.model_selection import train_test_split # Import train_test_split function\n",
    "\n",
    "# Import dataset \n",
    "df = pd.read_csv('Data/Processed_data15.csv')\n",
    "\n",
    "# Label Encoding\n",
    "le_carrier = LabelEncoder()\n",
    "df['carrier'] = le_carrier.fit_transform(df['carrier'])\n",
    "\n",
    "le_dest = LabelEncoder()\n",
    "df['dest'] = le_dest.fit_transform(df['dest'])\n",
    "\n",
    "le_origin = LabelEncoder()\n",
    "df['origin'] = le_origin.fit_transform(df['origin'])\n",
    "\n",
    "# Converting Pandas DataFrame into a Numpy array\n",
    "X = df.iloc[:, 0:6].values # from column(years) to column(distance)\n",
    "y = df['delayed'].values\n",
    "\n",
    "X_train, X_test, y_train, y_test = train_test_split(X, y, test_size=0.25, random_state=18) # 70% training and 30% test\n",
    "# For 75% Train and 25% test use Random state =809\n",
    "\n",
    "#Create a Random Forest Classifier\n",
    "clf = RandomForestClassifier(random_state=18)\n",
    "clf.fit(X_train, y_train)\n",
    "\n",
    "# Saving model to disk\n",
    "pickle.dump(clf,open('model.pkl','wb'))\n",
    "\n",
    "model = pickle.load(open('model.pkl','rb'))"
   ]
  }
 ],
 "metadata": {
  "kernelspec": {
   "display_name": "Python 3",
   "language": "python",
   "name": "python3"
  },
  "language_info": {
   "codemirror_mode": {
    "name": "ipython",
    "version": 3
   },
   "file_extension": ".py",
   "mimetype": "text/x-python",
   "name": "python",
   "nbconvert_exporter": "python",
   "pygments_lexer": "ipython3",
   "version": "3.8.5"
  }
 },
 "nbformat": 4,
 "nbformat_minor": 4
}
